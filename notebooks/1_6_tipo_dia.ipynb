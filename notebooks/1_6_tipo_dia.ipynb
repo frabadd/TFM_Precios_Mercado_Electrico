{
 "cells": [
  {
   "cell_type": "markdown",
   "id": "a0a5e69b",
   "metadata": {},
   "source": [
    "\n",
    "# Clasificación del tipo de día en España\n",
    "\n",
    "Este cuaderno genera un DataFrame donde para cada día se añade información sobre el tipo de día, útil el para modelado de precios eléctricos:\n",
    "\n",
    "- Tipo de día:\n",
    "  - *F*: festivo nacional en España.\n",
    "  - *FR*: festivo en al menos una comunidad autónoma.\n",
    "  - *L*, *M*, *X*, *J*, *V*, *S*, *D*: días de la semana.\n",
    "\n",
    "La detección de festivos se realiza con la librería `holidays`."
   ]
  },
  {
   "cell_type": "code",
   "execution_count": 1,
   "id": "b7c32fd8",
   "metadata": {},
   "outputs": [],
   "source": [
    "import pandas as pd\n",
    "from datetime import date\n",
    "\n",
    "# Configuración de fechas\n",
    "start_date = date(2016, 1, 1)\n",
    "end_date = date.today()\n",
    "\n",
    "# Crear rango de fechas\n",
    "all_days = pd.date_range(start=start_date, end=end_date, freq=\"D\")\n",
    "\n",
    "years = list(range(start_date.year, end_date.year + 1))"
   ]
  },
  {
   "cell_type": "markdown",
   "id": "cb249f91",
   "metadata": {},
   "source": [
    "\n",
    "## Mapeo de días de la semana\n",
    "\n",
    "Usamos la convención:\n",
    "- L: Lunes\n",
    "- M: Martes\n",
    "- X: Miércoles\n",
    "- J: Jueves\n",
    "- V: Viernes\n",
    "- S: Sábado\n",
    "- D: Domingo\n"
   ]
  },
  {
   "cell_type": "code",
   "execution_count": 2,
   "id": "4e3a2ed4",
   "metadata": {},
   "outputs": [],
   "source": [
    "weekday_map = {0: \"L\", 1: \"M\", 2: \"X\", 3: \"J\", 4: \"V\", 5: \"S\", 6: \"D\"}"
   ]
  },
  {
   "cell_type": "markdown",
   "id": "0bf15067",
   "metadata": {},
   "source": [
    "\n",
    "## Festivos nacionales y regionales\n",
    "\n"
   ]
  },
  {
   "cell_type": "code",
   "execution_count": 3,
   "id": "758bb948",
   "metadata": {},
   "outputs": [
    {
     "data": {
      "text/plain": [
       "[(2016, 3, 25),\n",
       " (2016, 3, 26),\n",
       " (2017, 4, 14),\n",
       " (2017, 4, 15),\n",
       " (2018, 3, 30),\n",
       " (2018, 3, 31),\n",
       " (2019, 4, 19),\n",
       " (2019, 4, 20),\n",
       " (2020, 4, 10),\n",
       " (2020, 4, 11),\n",
       " (2021, 4, 2),\n",
       " (2021, 4, 3),\n",
       " (2022, 4, 15),\n",
       " (2022, 4, 16),\n",
       " (2023, 4, 7),\n",
       " (2023, 4, 8),\n",
       " (2024, 3, 29),\n",
       " (2024, 3, 30),\n",
       " (2025, 4, 18),\n",
       " (2025, 4, 19)]"
      ]
     },
     "execution_count": 3,
     "metadata": {},
     "output_type": "execute_result"
    }
   ],
   "source": [
    "# Calcular fechas de Semana Santa (Jueves y Viernes Santo) para cada año\n",
    "from dateutil.easter import easter\n",
    "\n",
    "semana_santa = []\n",
    "for y in years:\n",
    "    jueves_santo = easter(y) - pd.Timedelta(days=2)\n",
    "    viernes_santo = easter(y) - pd.Timedelta(days=1)\n",
    "    semana_santa.extend([(jueves_santo.year, jueves_santo.month, jueves_santo.day), (viernes_santo.year, viernes_santo.month, viernes_santo.day)])\n",
    "\n",
    "semana_santa"
   ]
  },
  {
   "cell_type": "code",
   "execution_count": 4,
   "id": "7e6d9715",
   "metadata": {},
   "outputs": [
    {
     "data": {
      "text/html": [
       "<div>\n",
       "<style scoped>\n",
       "    .dataframe tbody tr th:only-of-type {\n",
       "        vertical-align: middle;\n",
       "    }\n",
       "\n",
       "    .dataframe tbody tr th {\n",
       "        vertical-align: top;\n",
       "    }\n",
       "\n",
       "    .dataframe thead th {\n",
       "        text-align: right;\n",
       "    }\n",
       "</style>\n",
       "<table border=\"1\" class=\"dataframe\">\n",
       "  <thead>\n",
       "    <tr style=\"text-align: right;\">\n",
       "      <th></th>\n",
       "      <th>fecha</th>\n",
       "      <th>tipo_dia</th>\n",
       "    </tr>\n",
       "  </thead>\n",
       "  <tbody>\n",
       "    <tr>\n",
       "      <th>0</th>\n",
       "      <td>2016-01-01</td>\n",
       "      <td>F</td>\n",
       "    </tr>\n",
       "    <tr>\n",
       "      <th>1</th>\n",
       "      <td>2016-01-02</td>\n",
       "      <td>S</td>\n",
       "    </tr>\n",
       "    <tr>\n",
       "      <th>2</th>\n",
       "      <td>2016-01-03</td>\n",
       "      <td>D</td>\n",
       "    </tr>\n",
       "    <tr>\n",
       "      <th>3</th>\n",
       "      <td>2016-01-04</td>\n",
       "      <td>L</td>\n",
       "    </tr>\n",
       "    <tr>\n",
       "      <th>4</th>\n",
       "      <td>2016-01-05</td>\n",
       "      <td>M</td>\n",
       "    </tr>\n",
       "    <tr>\n",
       "      <th>...</th>\n",
       "      <td>...</td>\n",
       "      <td>...</td>\n",
       "    </tr>\n",
       "    <tr>\n",
       "      <th>3520</th>\n",
       "      <td>2025-08-21</td>\n",
       "      <td>J</td>\n",
       "    </tr>\n",
       "    <tr>\n",
       "      <th>3521</th>\n",
       "      <td>2025-08-22</td>\n",
       "      <td>V</td>\n",
       "    </tr>\n",
       "    <tr>\n",
       "      <th>3522</th>\n",
       "      <td>2025-08-23</td>\n",
       "      <td>S</td>\n",
       "    </tr>\n",
       "    <tr>\n",
       "      <th>3523</th>\n",
       "      <td>2025-08-24</td>\n",
       "      <td>D</td>\n",
       "    </tr>\n",
       "    <tr>\n",
       "      <th>3524</th>\n",
       "      <td>2025-08-25</td>\n",
       "      <td>L</td>\n",
       "    </tr>\n",
       "  </tbody>\n",
       "</table>\n",
       "<p>3525 rows × 2 columns</p>\n",
       "</div>"
      ],
      "text/plain": [
       "          fecha tipo_dia\n",
       "0    2016-01-01        F\n",
       "1    2016-01-02        S\n",
       "2    2016-01-03        D\n",
       "3    2016-01-04        L\n",
       "4    2016-01-05        M\n",
       "...         ...      ...\n",
       "3520 2025-08-21        J\n",
       "3521 2025-08-22        V\n",
       "3522 2025-08-23        S\n",
       "3523 2025-08-24        D\n",
       "3524 2025-08-25        L\n",
       "\n",
       "[3525 rows x 2 columns]"
      ]
     },
     "execution_count": 4,
     "metadata": {},
     "output_type": "execute_result"
    }
   ],
   "source": [
    "# Crear DataFrame con fechas\n",
    "df_dias = pd.DataFrame({\"fecha\": all_days})\n",
    "\n",
    "# Lista de festivos nacionales \n",
    "festivos_nacionales = [\n",
    "    (1, 1),   # Año Nuevo\n",
    "    (1, 6),   # Reyes\n",
    "    (5, 1),   # Día del Trabajador\n",
    "    (8, 15),  # Asunción\n",
    "    (10, 12), # Fiesta Nacional\n",
    "    (11, 1),  # Todos los Santos\n",
    "    (12, 6),  # Constitución\n",
    "    (12, 8),  # Inmaculada\n",
    "    (12, 25), # Navidad\n",
    "]\n",
    "\n",
    "# Lista de festivos regionales\n",
    "festivos_regionales = {\n",
    "    (2, 28),  # Día de Andalucía\n",
    "    (3, 19),  # San José (Comunidad Valenciana, Murcia)\n",
    "    (4, 23),  # Día de Castilla-León y San Jorge (Aragón, Cáceres)\n",
    "    (5, 2),   # Día de Madrid\n",
    "    (5, 31),  # Día de Castilla-La Mancha\n",
    "    (6, 9),   # Día de la Región de Murcia y de La Rioja\n",
    "    (7, 25),  # Día de Galicia\n",
    "    (7, 28),  # Día de Cantabria\n",
    "    (9, 8),   # Día de Asturias y Extremadura\n",
    "    (9, 11),  # Día de Cataluña\n",
    "    (10, 9),  # Día de la Comunidad Valenciana\n",
    "    (10, 25), # Día del País Vasco\n",
    "    (12, 3),  # Día de Navarra\n",
    "}\n",
    "\n",
    "\n",
    "def tipo_dia_func(fecha):\n",
    "    d = fecha.date()\n",
    "    if (d.month, d.day) in festivos_nacionales:\n",
    "        return \"F\"\n",
    "    if (d.year, d.month, d.day) in semana_santa:\n",
    "        return \"F\"\n",
    "    elif (d.month, d.day) in festivos_regionales:\n",
    "        return \"FR\"  \n",
    "    return weekday_map[d.weekday()]\n",
    "\n",
    "df_dias[\"tipo_dia\"] = df_dias[\"fecha\"].apply(tipo_dia_func)\n",
    "df_dias"
   ]
  },
  {
   "cell_type": "markdown",
   "id": "26ba089a",
   "metadata": {},
   "source": [
    "\n",
    "## Exportación\n",
    "\n",
    "Se guarda el DataFrame en CSV.\n"
   ]
  },
  {
   "cell_type": "code",
   "execution_count": 8,
   "id": "e5570856",
   "metadata": {},
   "outputs": [
    {
     "name": "stdout",
     "output_type": "stream",
     "text": [
      "CSV exportado a: ../datos/tipo_dias.csv\n"
     ]
    }
   ],
   "source": [
    "csv_path = \"../datos/tipo_dias.csv\"\n",
    "df_dias.to_csv(csv_path, index=False)\n",
    "print(\"CSV exportado a:\", csv_path)"
   ]
  },
  {
   "cell_type": "code",
   "execution_count": null,
   "id": "49e60033",
   "metadata": {},
   "outputs": [],
   "source": []
  }
 ],
 "metadata": {
  "kernelspec": {
   "display_name": ".venv",
   "language": "python",
   "name": "python3"
  },
  "language_info": {
   "codemirror_mode": {
    "name": "ipython",
    "version": 3
   },
   "file_extension": ".py",
   "mimetype": "text/x-python",
   "name": "python",
   "nbconvert_exporter": "python",
   "pygments_lexer": "ipython3",
   "version": "3.12.3"
  }
 },
 "nbformat": 4,
 "nbformat_minor": 5
}
